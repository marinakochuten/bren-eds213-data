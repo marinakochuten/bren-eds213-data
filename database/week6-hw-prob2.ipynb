{
 "cells": [
  {
   "cell_type": "markdown",
   "id": "ec7b5971",
   "metadata": {},
   "source": [
    "#### Setup and connect to database"
   ]
  },
  {
   "cell_type": "code",
   "execution_count": 1,
   "id": "9679dd6e",
   "metadata": {},
   "outputs": [
    {
     "ename": "ModuleNotFoundError",
     "evalue": "No module named 'duckdb'",
     "output_type": "error",
     "traceback": [
      "\u001b[31m---------------------------------------------------------------------------\u001b[39m",
      "\u001b[31mModuleNotFoundError\u001b[39m                       Traceback (most recent call last)",
      "\u001b[36mCell\u001b[39m\u001b[36m \u001b[39m\u001b[32mIn[1]\u001b[39m\u001b[32m, line 2\u001b[39m\n\u001b[32m      1\u001b[39m \u001b[38;5;66;03m# Import DuckDB module\u001b[39;00m\n\u001b[32m----> \u001b[39m\u001b[32m2\u001b[39m \u001b[38;5;28;01mimport\u001b[39;00m\u001b[38;5;250m \u001b[39m\u001b[34;01mduckdb\u001b[39;00m\n\u001b[32m      4\u001b[39m \u001b[38;5;66;03m# Connect to database\u001b[39;00m\n\u001b[32m      5\u001b[39m conn = duckdb.connect(\u001b[33m\"\u001b[39m\u001b[33mdatabase.db\u001b[39m\u001b[33m\"\u001b[39m)\n",
      "\u001b[31mModuleNotFoundError\u001b[39m: No module named 'duckdb'"
     ]
    }
   ],
   "source": [
    "# Import DuckDB module\n",
    "import duckdb\n",
    "\n",
    "# Connect to database\n",
    "conn = duckdb.connect(\"database.db\")\n",
    "\n",
    "# Create a cursor\n",
    "cur = conn.cursor()\n",
    "\n",
    "# Test connection\n",
    "cur.execute(\"SELECT * FROM Site LIMIT 3\")"
   ]
  },
  {
   "cell_type": "code",
   "execution_count": null,
   "id": "8a83f4fe",
   "metadata": {},
   "outputs": [],
   "source": []
  }
 ],
 "metadata": {
  "kernelspec": {
   "display_name": "eds-220-env-arm64",
   "language": "python",
   "name": "python3"
  },
  "language_info": {
   "codemirror_mode": {
    "name": "ipython",
    "version": 3
   },
   "file_extension": ".py",
   "mimetype": "text/x-python",
   "name": "python",
   "nbconvert_exporter": "python",
   "pygments_lexer": "ipython3",
   "version": "3.11.10"
  }
 },
 "nbformat": 4,
 "nbformat_minor": 5
}
