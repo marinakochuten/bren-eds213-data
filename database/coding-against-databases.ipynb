{
 "cells": [
  {
   "cell_type": "markdown",
   "id": "c007f4a5-e6aa-48e4-b90a-83ccd57ec868",
   "metadata": {},
   "source": [
    "Import duckdb module"
   ]
  },
  {
   "cell_type": "code",
   "execution_count": 1,
   "id": "1b859347-84b8-492f-ad1c-7126d1486d16",
   "metadata": {
    "tags": []
   },
   "outputs": [],
   "source": [
    "import duckdb"
   ]
  },
  {
   "cell_type": "code",
   "execution_count": 2,
   "id": "5fafd2e0-d775-4afa-a03e-5889dcc12f2f",
   "metadata": {
    "tags": []
   },
   "outputs": [],
   "source": [
    "conn = duckdb.connect(\"database.db\")"
   ]
  },
  {
   "cell_type": "code",
   "execution_count": 3,
   "id": "5abe4f6a-a9d4-47d8-a1e8-f55e76d0b674",
   "metadata": {
    "tags": []
   },
   "outputs": [
    {
     "data": {
      "text/plain": [
       "<duckdb.duckdb.DuckDBPyConnection at 0x7f54c8718cf0>"
      ]
     },
     "execution_count": 3,
     "metadata": {},
     "output_type": "execute_result"
    }
   ],
   "source": [
    "conn"
   ]
  },
  {
   "cell_type": "markdown",
   "id": "ac7d2980-45d5-4edf-aac4-47d5f716478a",
   "metadata": {},
   "source": [
    "Create a cursor to hold the context of executing a query or other SQL statement"
   ]
  },
  {
   "cell_type": "code",
   "execution_count": 4,
   "id": "3cef390b-3db6-4e65-b6d9-36aa8c24451e",
   "metadata": {
    "tags": []
   },
   "outputs": [],
   "source": [
    "cur = conn.cursor()"
   ]
  },
  {
   "cell_type": "code",
   "execution_count": 5,
   "id": "addf84d0-242b-4a1b-b723-77d0c042e9b4",
   "metadata": {
    "tags": []
   },
   "outputs": [
    {
     "data": {
      "text/plain": [
       "<duckdb.duckdb.DuckDBPyConnection at 0x7f54c81e7f70>"
      ]
     },
     "execution_count": 5,
     "metadata": {},
     "output_type": "execute_result"
    }
   ],
   "source": [
    "cur.execute(\"SELECT * FROM Site LIMIT 3\")"
   ]
  },
  {
   "cell_type": "markdown",
   "id": "401e1249-0fe8-41a2-8dea-d79cb6413fa7",
   "metadata": {},
   "source": [
    "Method 1: getting all at once using `fetchall`"
   ]
  },
  {
   "cell_type": "code",
   "execution_count": 6,
   "id": "84a5e173-cee2-417b-abca-6732834aee58",
   "metadata": {
    "tags": []
   },
   "outputs": [
    {
     "data": {
      "text/plain": [
       "[('barr',\n",
       "  'Barrow',\n",
       "  'Alaska, USA',\n",
       "  71.30000305175781,\n",
       "  -156.60000610351562,\n",
       "  220.39999389648438),\n",
       " ('burn',\n",
       "  'Burntpoint Creek',\n",
       "  'Ontario, Canada',\n",
       "  55.20000076293945,\n",
       "  -84.30000305175781,\n",
       "  63.0),\n",
       " ('bylo',\n",
       "  'Bylot Island',\n",
       "  'Nunavut, Canada',\n",
       "  73.19999694824219,\n",
       "  -80.0,\n",
       "  723.5999755859375)]"
      ]
     },
     "execution_count": 6,
     "metadata": {},
     "output_type": "execute_result"
    }
   ],
   "source": [
    "cur.fetchall()"
   ]
  },
  {
   "cell_type": "markdown",
   "id": "842ef2bc-d57a-444d-a469-77107ed55240",
   "metadata": {},
   "source": [
    "Cursors don't save any results; they're just a pass-through mechanism"
   ]
  },
  {
   "cell_type": "code",
   "execution_count": 7,
   "id": "9b1e7b2b-f656-4592-b7e1-bb7dea312e48",
   "metadata": {
    "tags": []
   },
   "outputs": [
    {
     "data": {
      "text/plain": [
       "[]"
      ]
     },
     "execution_count": 7,
     "metadata": {},
     "output_type": "execute_result"
    }
   ],
   "source": [
    "cur.fetchall()"
   ]
  },
  {
   "cell_type": "markdown",
   "id": "a2a35bbf-cf1e-41f3-be13-379497c0344a",
   "metadata": {},
   "source": [
    "Cursors always return a list of tuples, even 1-tuples"
   ]
  },
  {
   "cell_type": "code",
   "execution_count": 8,
   "id": "b2f1f304-1084-46e3-a6da-3c31c1dbe647",
   "metadata": {
    "tags": []
   },
   "outputs": [
    {
     "data": {
      "text/plain": [
       "[('barr',), ('burn',), ('bylo',)]"
      ]
     },
     "execution_count": 8,
     "metadata": {},
     "output_type": "execute_result"
    }
   ],
   "source": [
    "cur.execute(\"SELECT Code FROM Site LIMIT 3\").fetchall()"
   ]
  },
  {
   "cell_type": "markdown",
   "id": "e8ccf43e-1921-445f-b9b6-b389f623e7b3",
   "metadata": {},
   "source": [
    "Pretty common to use a list comprehension to pull out the values more conveniently"
   ]
  },
  {
   "cell_type": "code",
   "execution_count": 9,
   "id": "85a53998-5a77-4c41-93ee-18bc071ed3c3",
   "metadata": {
    "tags": []
   },
   "outputs": [
    {
     "data": {
      "text/plain": [
       "<duckdb.duckdb.DuckDBPyConnection at 0x7f54c81e7f70>"
      ]
     },
     "execution_count": 9,
     "metadata": {},
     "output_type": "execute_result"
    }
   ],
   "source": [
    "cur.execute(\"SELECT Code FROM Site LIMIT 3\")"
   ]
  },
  {
   "cell_type": "code",
   "execution_count": 10,
   "id": "560c4c36-2250-4ffb-92d8-2dfabb0ed8c5",
   "metadata": {
    "tags": []
   },
   "outputs": [
    {
     "data": {
      "text/plain": [
       "['barr', 'burn', 'bylo']"
      ]
     },
     "execution_count": 10,
     "metadata": {},
     "output_type": "execute_result"
    }
   ],
   "source": [
    "[t[0] for t in cur.fetchall()]"
   ]
  },
  {
   "cell_type": "markdown",
   "id": "10adb929-9510-438a-a904-692340f3b081",
   "metadata": {},
   "source": [
    "Method 2: getting one result at a time"
   ]
  },
  {
   "cell_type": "code",
   "execution_count": 11,
   "id": "bd0a68e1-5a56-419a-b9b0-822bdf6d8be0",
   "metadata": {
    "tags": []
   },
   "outputs": [
    {
     "data": {
      "text/plain": [
       "('barr',)"
      ]
     },
     "execution_count": 11,
     "metadata": {},
     "output_type": "execute_result"
    }
   ],
   "source": [
    "cur.execute(\"SELECT Code FROM Site\")\n",
    "cur.fetchone()"
   ]
  },
  {
   "cell_type": "code",
   "execution_count": 12,
   "id": "12530ed3-7173-42ea-be9e-6b8de2cd63e4",
   "metadata": {
    "tags": []
   },
   "outputs": [
    {
     "data": {
      "text/plain": [
       "('burn',)"
      ]
     },
     "execution_count": 12,
     "metadata": {},
     "output_type": "execute_result"
    }
   ],
   "source": [
    "cur.fetchone()"
   ]
  },
  {
   "cell_type": "code",
   "execution_count": 13,
   "id": "992e95ca-5efe-4b44-bfdc-bbaf5d2affd6",
   "metadata": {
    "tags": []
   },
   "outputs": [
    {
     "data": {
      "text/plain": [
       "('bylo',)"
      ]
     },
     "execution_count": 13,
     "metadata": {},
     "output_type": "execute_result"
    }
   ],
   "source": [
    "cur.fetchone()"
   ]
  },
  {
   "cell_type": "markdown",
   "id": "54aeaa25-d0cd-4f9d-99d2-8b141d6b34e0",
   "metadata": {},
   "source": [
    "Method 3: iterate over a cursor -- sadly, not supported by DuckDB"
   ]
  },
  {
   "cell_type": "code",
   "execution_count": 14,
   "id": "290657a1-c52e-4497-a518-6e55e3862286",
   "metadata": {
    "tags": []
   },
   "outputs": [
    {
     "ename": "TypeError",
     "evalue": "'duckdb.duckdb.DuckDBPyConnection' object is not iterable",
     "output_type": "error",
     "traceback": [
      "\u001b[0;31m---------------------------------------------------------------------------\u001b[0m",
      "\u001b[0;31mTypeError\u001b[0m                                 Traceback (most recent call last)",
      "\u001b[0;32m/tmp/ipykernel_46827/3092696229.py\u001b[0m in \u001b[0;36m<module>\u001b[0;34m\u001b[0m\n\u001b[1;32m      1\u001b[0m \u001b[0mcur\u001b[0m\u001b[0;34m.\u001b[0m\u001b[0mexecute\u001b[0m\u001b[0;34m(\u001b[0m\u001b[0;34m\"SELECT Code FROM Site\"\u001b[0m\u001b[0;34m)\u001b[0m\u001b[0;34m\u001b[0m\u001b[0;34m\u001b[0m\u001b[0m\n\u001b[0;32m----> 2\u001b[0;31m \u001b[0;32mfor\u001b[0m \u001b[0mrow\u001b[0m \u001b[0;32min\u001b[0m \u001b[0mcur\u001b[0m\u001b[0;34m:\u001b[0m\u001b[0;34m\u001b[0m\u001b[0;34m\u001b[0m\u001b[0m\n\u001b[0m\u001b[1;32m      3\u001b[0m     \u001b[0mprint\u001b[0m\u001b[0;34m(\u001b[0m\u001b[0mrow\u001b[0m\u001b[0;34m)\u001b[0m\u001b[0;34m\u001b[0m\u001b[0;34m\u001b[0m\u001b[0m\n",
      "\u001b[0;31mTypeError\u001b[0m: 'duckdb.duckdb.DuckDBPyConnection' object is not iterable"
     ]
    }
   ],
   "source": [
    "cur.execute(\"SELECT Code FROM Site\")\n",
    "for row in cur:\n",
    "    print(row)"
   ]
  },
  {
   "cell_type": "markdown",
   "id": "27483828-4ade-4787-ad2e-17f0f882ff01",
   "metadata": {},
   "source": [
    "Why fetch one? if you have a large amount of results, fetch all will be super inefficient. takes a really long time.\n",
    "\n",
    "much more efficient to say \"send me this query, i will loop over the results and the database will give me them back one at a time\""
   ]
  },
  {
   "cell_type": "markdown",
   "id": "aee0c1d3-8f56-4678-b312-8cbc4ce98854",
   "metadata": {},
   "source": [
    "---\n",
    "\n",
    "can do things other than selects"
   ]
  },
  {
   "cell_type": "code",
   "execution_count": 16,
   "id": "4b358074-b1bd-4777-9928-c6a506be08c2",
   "metadata": {
    "tags": []
   },
   "outputs": [
    {
     "data": {
      "text/plain": [
       "<duckdb.duckdb.DuckDBPyConnection at 0x7f54c81e7f70>"
      ]
     },
     "execution_count": 16,
     "metadata": {},
     "output_type": "execute_result"
    }
   ],
   "source": [
    "cur.execute(\"\"\"CREATE TEMP TABLE t AS\n",
    "SELECT * FROM Bird_nests WHERE Nest_ID LIKE '14%'\"\"\")"
   ]
  },
  {
   "cell_type": "code",
   "execution_count": 17,
   "id": "5cc6f253-02c5-491f-b95b-05519a3c766e",
   "metadata": {
    "tags": []
   },
   "outputs": [
    {
     "data": {
      "text/plain": [
       "[(99,)]"
      ]
     },
     "execution_count": 17,
     "metadata": {},
     "output_type": "execute_result"
    }
   ],
   "source": [
    "cur.fetchall()"
   ]
  },
  {
   "cell_type": "markdown",
   "id": "16248405-8cc8-4e9a-94be-712462903675",
   "metadata": {},
   "source": [
    "returning number of rows?"
   ]
  },
  {
   "cell_type": "code",
   "execution_count": 18,
   "id": "ea930406-aadd-4807-bd47-1df0db4f06ba",
   "metadata": {
    "tags": []
   },
   "outputs": [
    {
     "data": {
      "text/plain": [
       "99"
      ]
     },
     "execution_count": 18,
     "metadata": {},
     "output_type": "execute_result"
    }
   ],
   "source": [
    "cur.execute(\"SELECT COUNT(*) FROM t\")\n",
    "cur.fetchone()[0]"
   ]
  },
  {
   "cell_type": "markdown",
   "id": "efa6af74-d6b1-4e0e-98a4-0e52e710fcad",
   "metadata": {},
   "source": [
    "A note on fragility: name the columns being requested"
   ]
  },
  {
   "cell_type": "code",
   "execution_count": 19,
   "id": "3bfb3cac-3893-48bd-9829-88f9283db050",
   "metadata": {
    "tags": []
   },
   "outputs": [
    {
     "data": {
      "text/plain": [
       "[('barr',\n",
       "  'Barrow',\n",
       "  'Alaska, USA',\n",
       "  71.30000305175781,\n",
       "  -156.60000610351562,\n",
       "  220.39999389648438),\n",
       " ('burn',\n",
       "  'Burntpoint Creek',\n",
       "  'Ontario, Canada',\n",
       "  55.20000076293945,\n",
       "  -84.30000305175781,\n",
       "  63.0),\n",
       " ('bylo',\n",
       "  'Bylot Island',\n",
       "  'Nunavut, Canada',\n",
       "  73.19999694824219,\n",
       "  -80.0,\n",
       "  723.5999755859375)]"
      ]
     },
     "execution_count": 19,
     "metadata": {},
     "output_type": "execute_result"
    }
   ],
   "source": [
    "cur.execute(\"SELECT * FROM Site LIMIT 3\")\n",
    "cur.fetchall()"
   ]
  },
  {
   "cell_type": "markdown",
   "id": "321db2dc-7c93-43cc-a786-a1a2ff19e6ec",
   "metadata": {},
   "source": [
    "Better practice to spell it out. Specifically, don't do a SELECT *"
   ]
  },
  {
   "cell_type": "code",
   "execution_count": 20,
   "id": "0d45df8c-959d-4a25-adf1-a6fe6ba78f38",
   "metadata": {
    "tags": []
   },
   "outputs": [
    {
     "data": {
      "text/plain": [
       "[('barr', 71.30000305175781, -156.60000610351562),\n",
       " ('burn', 55.20000076293945, -84.30000305175781),\n",
       " ('bylo', 73.19999694824219, -80.0)]"
      ]
     },
     "execution_count": 20,
     "metadata": {},
     "output_type": "execute_result"
    }
   ],
   "source": [
    "cur.execute(\"SELECT Code, Latitude, Longitude FROM Site LIMIT 3\").fetchall()"
   ]
  },
  {
   "cell_type": "markdown",
   "id": "b6484714-a072-4088-b9db-5affcfc8486e",
   "metadata": {},
   "source": [
    "---\n",
    "\n",
    "## Parameterized queries\n",
    "\n",
    "notes for HW"
   ]
  },
  {
   "cell_type": "code",
   "execution_count": 22,
   "id": "cbd79186-14d9-43af-a4f6-c7e68dcc149f",
   "metadata": {
    "tags": []
   },
   "outputs": [
    {
     "data": {
      "text/plain": [
       "[('agsq',), ('amcr',), ('amgp',)]"
      ]
     },
     "execution_count": 22,
     "metadata": {},
     "output_type": "execute_result"
    }
   ],
   "source": [
    "cur.execute(\"SELECT Code FROM Species LIMIT 3\").fetchall()"
   ]
  },
  {
   "cell_type": "markdown",
   "id": "69a68774-ef68-4828-a117-d72f18350205",
   "metadata": {},
   "source": [
    "Hypothesize: we want to know the number of nests for each species (and we're not going to use GROUP BY)"
   ]
  },
  {
   "cell_type": "code",
   "execution_count": 23,
   "id": "da99d133-5b9f-4194-86e1-88159f724b40",
   "metadata": {
    "tags": []
   },
   "outputs": [
    {
     "data": {
      "text/plain": [
       "[(0,)]"
      ]
     },
     "execution_count": 23,
     "metadata": {},
     "output_type": "execute_result"
    }
   ],
   "source": [
    "species = \"agsq\"\n",
    "query = \"SELECT COUNT (*) FROM Bird_Nests WHERE Species = ?\"\n",
    "cur.execute(query, [species])\n",
    "cur.fetchall()"
   ]
  },
  {
   "cell_type": "markdown",
   "id": "705edbe7-8c7b-4d4e-a61f-0265c5a66e6b",
   "metadata": {},
   "source": [
    "Let's put two things together: query for all species, and loop over those species, gettign then number of nests for each species"
   ]
  },
  {
   "cell_type": "code",
   "execution_count": 24,
   "id": "178863d9-2d68-41c0-bf82-46af71120fad",
   "metadata": {
    "tags": []
   },
   "outputs": [
    {
     "name": "stdout",
     "output_type": "stream",
     "text": [
      "Species agsq has 0 nests\n",
      "Species amcr has 0 nests\n",
      "Species amgp has 29 nests\n",
      "Species arfo has 0 nests\n",
      "Species arte has 0 nests\n",
      "Species basa has 0 nests\n",
      "Species bbis has 0 nests\n",
      "Species bbpl has 43 nests\n",
      "Species bbsa has 0 nests\n",
      "Species besw has 0 nests\n",
      "Species bltu has 0 nests\n",
      "Species brant has 0 nests\n",
      "Species brbe has 0 nests\n",
      "Species brle has 0 nests\n",
      "Species btcu has 0 nests\n",
      "Species btgo has 3 nests\n",
      "Species cole has 0 nests\n",
      "Species cora has 0 nests\n",
      "Species cosn has 0 nests\n",
      "Species crpl has 2 nests\n",
      "Species cusa has 0 nests\n",
      "Species dunl has 101 nests\n",
      "Species eywa has 0 nests\n",
      "Species glgu has 0 nests\n",
      "Species goea has 0 nests\n",
      "Species gwfg has 0 nests\n",
      "Species gwgu has 0 nests\n",
      "Species gwte has 0 nests\n",
      "Species gyrf has 0 nests\n",
      "Species herg has 3 nests\n",
      "Species hore has 0 nests\n",
      "Species hugo has 0 nests\n",
      "Species kill has 0 nests\n",
      "Species lalo has 33 nests\n",
      "Species lbdo has 1 nests\n",
      "Species lesa has 0 nests\n",
      "Species leye has 0 nests\n",
      "Species list has 0 nests\n",
      "Species ltdu has 0 nests\n",
      "Species ltja has 0 nests\n",
      "Species ltwe has 0 nests\n",
      "Species mago has 0 nests\n",
      "Species megu has 0 nests\n",
      "Species merl has 0 nests\n",
      "Species noha has 0 nests\n",
      "Species nopi has 0 nests\n",
      "Species nrvo has 0 nests\n",
      "Species nsho has 0 nests\n",
      "Species pagp has 0 nests\n",
      "Species paja has 2 nests\n",
      "Species palo has 0 nests\n",
      "Species pefa has 0 nests\n",
      "Species pesa has 14 nests\n",
      "Species pobe has 0 nests\n",
      "Species poja has 0 nests\n",
      "Species pusa has 0 nests\n",
      "Species refo has 0 nests\n",
      "Species rekn has 0 nests\n",
      "Species reph has 80 nests\n",
      "Species rlha has 0 nests\n",
      "Species rnph has 74 nests\n",
      "Species rnst has 0 nests\n",
      "Species rosa has 0 nests\n",
      "Species rtpi has 0 nests\n",
      "Species ruff has 0 nests\n",
      "Species rutu has 30 nests\n",
      "Species sacr has 0 nests\n",
      "Species sagu has 0 nests\n",
      "Species sand has 0 nests\n",
      "Species savs has 0 nests\n",
      "Species sbdo has 1 nests\n",
      "Species sbgu has 0 nests\n",
      "Species seow has 0 nests\n",
      "Species sepl has 105 nests\n",
      "Species sesa has 485 nests\n",
      "Species snow has 0 nests\n",
      "Species spei has 0 nests\n",
      "Species spre has 0 nests\n",
      "Species spsa has 0 nests\n",
      "Species spts has 0 nests\n",
      "Species stsa has 0 nests\n",
      "Species stwe has 0 nests\n",
      "Species test has 1 nests\n",
      "Species thgu has 0 nests\n",
      "Species tusw has 0 nests\n",
      "Species tuvo has 0 nests\n",
      "Species unfa has 0 nests\n",
      "Species ungu has 0 nests\n",
      "Species unja has 0 nests\n",
      "Species unle has 0 nests\n",
      "Species unra has 0 nests\n",
      "Species vegu has 0 nests\n",
      "Species wesa has 457 nests\n",
      "Species whim has 0 nests\n",
      "Species wipt has 0 nests\n",
      "Species wisn has 0 nests\n",
      "Species wolv has 0 nests\n",
      "Species wosa has 0 nests\n",
      "Species wrsa has 83 nests\n"
     ]
    }
   ],
   "source": [
    "cur.execute(\"SELECT Code FROM Species\")\n",
    "for row in cur.fetchall():      # in any other database, you could iterate over the cursor\n",
    "    species_code = row[0]\n",
    "    cur2 = conn.cursor()\n",
    "    cur2.execute(query, [species_code])\n",
    "    num_nests = cur2.fetchone()[0]\n",
    "    print(f\"Species {species_code} has {num_nests} nests\")\n",
    "    cur2.close()"
   ]
  },
  {
   "cell_type": "markdown",
   "id": "c4165a5e-7539-46b9-b309-3edccb3b16e1",
   "metadata": {},
   "source": [
    "There are lots of convienence ... "
   ]
  },
  {
   "cell_type": "code",
   "execution_count": 25,
   "id": "d7b1b5cd-72f1-468f-8a0f-1387809b1919",
   "metadata": {
    "tags": []
   },
   "outputs": [],
   "source": [
    "import pandas as pd"
   ]
  },
  {
   "cell_type": "code",
   "execution_count": 26,
   "id": "9fbd411f-7b76-42a1-9bee-ae76a53d4989",
   "metadata": {
    "tags": []
   },
   "outputs": [],
   "source": [
    "df = pd.read_sql(\"SELECT * FROM Site\", conn)"
   ]
  },
  {
   "cell_type": "code",
   "execution_count": 27,
   "id": "523aa8ef-b370-45e1-b910-74363c3212d6",
   "metadata": {
    "tags": []
   },
   "outputs": [
    {
     "data": {
      "text/html": [
       "<div>\n",
       "<style scoped>\n",
       "    .dataframe tbody tr th:only-of-type {\n",
       "        vertical-align: middle;\n",
       "    }\n",
       "\n",
       "    .dataframe tbody tr th {\n",
       "        vertical-align: top;\n",
       "    }\n",
       "\n",
       "    .dataframe thead th {\n",
       "        text-align: right;\n",
       "    }\n",
       "</style>\n",
       "<table border=\"1\" class=\"dataframe\">\n",
       "  <thead>\n",
       "    <tr style=\"text-align: right;\">\n",
       "      <th></th>\n",
       "      <th>Code</th>\n",
       "      <th>Site_name</th>\n",
       "      <th>Location</th>\n",
       "      <th>Latitude</th>\n",
       "      <th>Longitude</th>\n",
       "      <th>Area</th>\n",
       "    </tr>\n",
       "  </thead>\n",
       "  <tbody>\n",
       "    <tr>\n",
       "      <th>0</th>\n",
       "      <td>barr</td>\n",
       "      <td>Barrow</td>\n",
       "      <td>Alaska, USA</td>\n",
       "      <td>71.300003</td>\n",
       "      <td>-156.600006</td>\n",
       "      <td>220.399994</td>\n",
       "    </tr>\n",
       "    <tr>\n",
       "      <th>1</th>\n",
       "      <td>burn</td>\n",
       "      <td>Burntpoint Creek</td>\n",
       "      <td>Ontario, Canada</td>\n",
       "      <td>55.200001</td>\n",
       "      <td>-84.300003</td>\n",
       "      <td>63.000000</td>\n",
       "    </tr>\n",
       "    <tr>\n",
       "      <th>2</th>\n",
       "      <td>bylo</td>\n",
       "      <td>Bylot Island</td>\n",
       "      <td>Nunavut, Canada</td>\n",
       "      <td>73.199997</td>\n",
       "      <td>-80.000000</td>\n",
       "      <td>723.599976</td>\n",
       "    </tr>\n",
       "    <tr>\n",
       "      <th>3</th>\n",
       "      <td>cakr</td>\n",
       "      <td>Cape Krusenstern</td>\n",
       "      <td>Alaska, USA</td>\n",
       "      <td>67.099998</td>\n",
       "      <td>-163.500000</td>\n",
       "      <td>54.099998</td>\n",
       "    </tr>\n",
       "    <tr>\n",
       "      <th>4</th>\n",
       "      <td>cari</td>\n",
       "      <td>Canning River Delta</td>\n",
       "      <td>Alaska, USA</td>\n",
       "      <td>70.099998</td>\n",
       "      <td>-145.800003</td>\n",
       "      <td>722.000000</td>\n",
       "    </tr>\n",
       "    <tr>\n",
       "      <th>5</th>\n",
       "      <td>chau</td>\n",
       "      <td>Chaun River Delta</td>\n",
       "      <td>Chukotka, Russia</td>\n",
       "      <td>68.800003</td>\n",
       "      <td>170.600006</td>\n",
       "      <td>248.199997</td>\n",
       "    </tr>\n",
       "    <tr>\n",
       "      <th>6</th>\n",
       "      <td>chur</td>\n",
       "      <td>Churchill</td>\n",
       "      <td>Manitoba, Canada</td>\n",
       "      <td>58.700001</td>\n",
       "      <td>-93.800003</td>\n",
       "      <td>866.900024</td>\n",
       "    </tr>\n",
       "    <tr>\n",
       "      <th>7</th>\n",
       "      <td>coat</td>\n",
       "      <td>Coats Island</td>\n",
       "      <td>Nunavut, Canada</td>\n",
       "      <td>62.900002</td>\n",
       "      <td>-82.500000</td>\n",
       "      <td>1239.099976</td>\n",
       "    </tr>\n",
       "    <tr>\n",
       "      <th>8</th>\n",
       "      <td>colv</td>\n",
       "      <td>Colville River Delta</td>\n",
       "      <td>Alaska, USA</td>\n",
       "      <td>70.400002</td>\n",
       "      <td>-150.699997</td>\n",
       "      <td>324.799988</td>\n",
       "    </tr>\n",
       "    <tr>\n",
       "      <th>9</th>\n",
       "      <td>eaba</td>\n",
       "      <td>East Bay</td>\n",
       "      <td>Nunavut, Canada</td>\n",
       "      <td>64.000000</td>\n",
       "      <td>-81.699997</td>\n",
       "      <td>1205.500000</td>\n",
       "    </tr>\n",
       "    <tr>\n",
       "      <th>10</th>\n",
       "      <td>iglo</td>\n",
       "      <td>Igloolik</td>\n",
       "      <td>Nunavut, Canada</td>\n",
       "      <td>69.400002</td>\n",
       "      <td>-81.599998</td>\n",
       "      <td>59.799999</td>\n",
       "    </tr>\n",
       "    <tr>\n",
       "      <th>11</th>\n",
       "      <td>ikpi</td>\n",
       "      <td>Ikpikpuk</td>\n",
       "      <td>Alaska, USA</td>\n",
       "      <td>70.599998</td>\n",
       "      <td>-154.699997</td>\n",
       "      <td>174.100006</td>\n",
       "    </tr>\n",
       "    <tr>\n",
       "      <th>12</th>\n",
       "      <td>lkri</td>\n",
       "      <td>Lower Khatanga River</td>\n",
       "      <td>Krasnoyarsk, Russia</td>\n",
       "      <td>72.900002</td>\n",
       "      <td>106.099998</td>\n",
       "      <td>270.899994</td>\n",
       "    </tr>\n",
       "    <tr>\n",
       "      <th>13</th>\n",
       "      <td>made</td>\n",
       "      <td>Mackenzie River Delta</td>\n",
       "      <td>Northwest Territories, Canada</td>\n",
       "      <td>69.400002</td>\n",
       "      <td>-135.000000</td>\n",
       "      <td>667.299988</td>\n",
       "    </tr>\n",
       "    <tr>\n",
       "      <th>14</th>\n",
       "      <td>nome</td>\n",
       "      <td>Nome</td>\n",
       "      <td>Alaska, USA</td>\n",
       "      <td>64.400002</td>\n",
       "      <td>-164.899994</td>\n",
       "      <td>90.099998</td>\n",
       "    </tr>\n",
       "    <tr>\n",
       "      <th>15</th>\n",
       "      <td>prba</td>\n",
       "      <td>Prudhoe Bay</td>\n",
       "      <td>Alaska, USA</td>\n",
       "      <td>70.300003</td>\n",
       "      <td>-148.600006</td>\n",
       "      <td>120.000000</td>\n",
       "    </tr>\n",
       "  </tbody>\n",
       "</table>\n",
       "</div>"
      ],
      "text/plain": [
       "    Code              Site_name                       Location   Latitude  \\\n",
       "0   barr                 Barrow                    Alaska, USA  71.300003   \n",
       "1   burn       Burntpoint Creek                Ontario, Canada  55.200001   \n",
       "2   bylo           Bylot Island                Nunavut, Canada  73.199997   \n",
       "3   cakr       Cape Krusenstern                    Alaska, USA  67.099998   \n",
       "4   cari    Canning River Delta                    Alaska, USA  70.099998   \n",
       "5   chau      Chaun River Delta               Chukotka, Russia  68.800003   \n",
       "6   chur              Churchill               Manitoba, Canada  58.700001   \n",
       "7   coat           Coats Island                Nunavut, Canada  62.900002   \n",
       "8   colv   Colville River Delta                    Alaska, USA  70.400002   \n",
       "9   eaba               East Bay                Nunavut, Canada  64.000000   \n",
       "10  iglo               Igloolik                Nunavut, Canada  69.400002   \n",
       "11  ikpi               Ikpikpuk                    Alaska, USA  70.599998   \n",
       "12  lkri   Lower Khatanga River            Krasnoyarsk, Russia  72.900002   \n",
       "13  made  Mackenzie River Delta  Northwest Territories, Canada  69.400002   \n",
       "14  nome                   Nome                    Alaska, USA  64.400002   \n",
       "15  prba            Prudhoe Bay                    Alaska, USA  70.300003   \n",
       "\n",
       "     Longitude         Area  \n",
       "0  -156.600006   220.399994  \n",
       "1   -84.300003    63.000000  \n",
       "2   -80.000000   723.599976  \n",
       "3  -163.500000    54.099998  \n",
       "4  -145.800003   722.000000  \n",
       "5   170.600006   248.199997  \n",
       "6   -93.800003   866.900024  \n",
       "7   -82.500000  1239.099976  \n",
       "8  -150.699997   324.799988  \n",
       "9   -81.699997  1205.500000  \n",
       "10  -81.599998    59.799999  \n",
       "11 -154.699997   174.100006  \n",
       "12  106.099998   270.899994  \n",
       "13 -135.000000   667.299988  \n",
       "14 -164.899994    90.099998  \n",
       "15 -148.600006   120.000000  "
      ]
     },
     "execution_count": 27,
     "metadata": {},
     "output_type": "execute_result"
    }
   ],
   "source": [
    "df"
   ]
  },
  {
   "cell_type": "code",
   "execution_count": null,
   "id": "4da10163-dc34-40dc-998b-5a78b37f91c1",
   "metadata": {},
   "outputs": [],
   "source": []
  }
 ],
 "metadata": {
  "kernelspec": {
   "display_name": "Python 3 (ipykernel)",
   "language": "python",
   "name": "python3"
  },
  "language_info": {
   "codemirror_mode": {
    "name": "ipython",
    "version": 3
   },
   "file_extension": ".py",
   "mimetype": "text/x-python",
   "name": "python",
   "nbconvert_exporter": "python",
   "pygments_lexer": "ipython3",
   "version": "3.7.13"
  }
 },
 "nbformat": 4,
 "nbformat_minor": 5
}
